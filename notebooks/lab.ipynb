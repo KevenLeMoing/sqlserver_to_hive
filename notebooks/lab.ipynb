{
 "cells": [
  {
   "cell_type": "code",
   "execution_count": 3,
   "metadata": {
    "collapsed": true
   },
   "outputs": [
    {
     "data": {
      "text/plain": [
       "'ClaimCaseId'"
      ]
     },
     "execution_count": 3,
     "metadata": {},
     "output_type": "execute_result"
    }
   ],
   "source": [
    "a = \"ClaimCaseId bigint\"\n",
    "a.split(\" \")[0]"
   ]
  },
  {
   "cell_type": "code",
   "execution_count": 4,
   "metadata": {},
   "outputs": [
    {
     "data": {
      "text/plain": [
       "['a', 'b', 'c']"
      ]
     },
     "execution_count": 4,
     "metadata": {},
     "output_type": "execute_result"
    }
   ],
   "source": [
    "l = [\"a\",\"b\",\"c\",\"d\",\"e\",\"f\"]\n",
    "l[:3]"
   ]
  },
  {
   "cell_type": "code",
   "execution_count": 6,
   "metadata": {},
   "outputs": [],
   "source": [
    "t = dict({\"laala\":\"jgjjgjgjgjgjg\"})"
   ]
  },
  {
   "cell_type": "code",
   "execution_count": 9,
   "metadata": {},
   "outputs": [
    {
     "ename": "KeyError",
     "evalue": "0",
     "traceback": [
      "\u001b[0;31m---------------------------------------------------------------------------\u001b[0m",
      "\u001b[0;31mKeyError\u001b[0m                                  Traceback (most recent call last)",
      "\u001b[0;32m<ipython-input-9-b126fc734952>\u001b[0m in \u001b[0;36m<module>\u001b[0;34m()\u001b[0m\n\u001b[1;32m      1\u001b[0m \u001b[0;32mfor\u001b[0m \u001b[0mi\u001b[0m \u001b[0;32min\u001b[0m \u001b[0mrange\u001b[0m\u001b[0;34m(\u001b[0m\u001b[0mlen\u001b[0m\u001b[0;34m(\u001b[0m\u001b[0mt\u001b[0m\u001b[0;34m)\u001b[0m\u001b[0;34m)\u001b[0m\u001b[0;34m:\u001b[0m\u001b[0;34m\u001b[0m\u001b[0m\n\u001b[0;32m----> 2\u001b[0;31m     \u001b[0;32mprint\u001b[0m \u001b[0mt\u001b[0m\u001b[0;34m[\u001b[0m\u001b[0mi\u001b[0m\u001b[0;34m]\u001b[0m\u001b[0;34m\u001b[0m\u001b[0m\n\u001b[0m",
      "\u001b[0;31mKeyError\u001b[0m: 0"
     ],
     "output_type": "error"
    }
   ],
   "source": [
    "for i in range(len(t)):\n",
    "    print t[i]"
   ]
  },
  {
   "cell_type": "code",
   "execution_count": 10,
   "metadata": {},
   "outputs": [
    {
     "data": {
      "text/plain": [
       "'laala'"
      ]
     },
     "execution_count": 10,
     "metadata": {},
     "output_type": "execute_result"
    }
   ],
   "source": [
    "list(t.keys())[0]"
   ]
  },
  {
   "cell_type": "code",
   "execution_count": 13,
   "metadata": {},
   "outputs": [],
   "source": [
    "example = dict({'ActionHistory': {'ActionHistoryID': 'bigint', 'ActionID': 'int', 'ActionDetails': 'string', 'UserID': 'bigint', 'DateCreated': 'date', 'UserTypeID': 'int'}, 'ActionHistoryOld': {'ActionHistoryID': 'bigint', 'ActionID': 'int', 'ActionDetails': 'string', 'UserID': 'bigint', 'DateCreated': 'date', 'UserTypeID': 'int'}, 'Actions': {'ActionID': 'int', 'ActionName': 'string'}})   "
   ]
  },
  {
   "cell_type": "code",
   "execution_count": 26,
   "metadata": {},
   "outputs": [
    {
     "name": "stdout",
     "output_type": "stream",
     "text": [
      "ActionHistory\n----k----\n{'UserTypeID': 'int', 'UserID': 'bigint', 'DateCreated': 'date', 'ActionHistoryID': 'bigint', 'ActionID': 'int', 'ActionDetails': 'string'}\n---v-----\n<type 'dict'>\n{'UserTypeID': 'int', 'UserID': 'bigint', 'DateCreated': 'date', 'ActionHistoryID': 'bigint', 'ActionID': 'int', 'ActionDetails': 'string'}\n------------sub----------------\nUserTypeID\n---------subkey----------\nint\n---------subvalue----------\nUserID\n---------subkey----------\nbigint\n---------subvalue----------\nDateCreated\n---------subkey----------\ndate\n---------subvalue----------\nActionHistoryID\n---------subkey----------\nbigint\n---------subvalue----------\nActionID\n---------subkey----------\nint\n---------subvalue----------\nActionDetails\n---------subkey----------\nstring\n---------subvalue----------\nActionHistoryOld\n----k----\n{'UserTypeID': 'int', 'UserID': 'bigint', 'DateCreated': 'date', 'ActionHistoryID': 'bigint', 'ActionID': 'int', 'ActionDetails': 'string'}\n---v-----\n<type 'dict'>\n{'UserTypeID': 'int', 'UserID': 'bigint', 'DateCreated': 'date', 'ActionHistoryID': 'bigint', 'ActionID': 'int', 'ActionDetails': 'string'}\n------------sub----------------\nUserTypeID\n---------subkey----------\nint\n---------subvalue----------\nUserID\n---------subkey----------\nbigint\n---------subvalue----------\nDateCreated\n---------subkey----------\ndate\n---------subvalue----------\nActionHistoryID\n---------subkey----------\nbigint\n---------subvalue----------\nActionID\n---------subkey----------\nint\n---------subvalue----------\nActionDetails\n---------subkey----------\nstring\n---------subvalue----------\nActions\n----k----\n{'ActionName': 'string', 'ActionID': 'int'}\n---v-----\n<type 'dict'>\n{'ActionName': 'string', 'ActionID': 'int'}\n------------sub----------------\nActionName\n---------subkey----------\nstring\n---------subvalue----------\nActionID\n---------subkey----------\nint\n---------subvalue----------\n"
     ]
    }
   ],
   "source": [
    "for key, value in example.items():\n",
    "    print(key)\n",
    "    print(\"----k----\")\n",
    "    print(value)\n",
    "    print(\"---v-----\")\n",
    "    print (type(example[key]))\n",
    "    print (example[key])\n",
    "    print(\"------------sub----------------\")\n",
    "    #print (example[key][value])\n",
    "    for key2 in example[key]:\n",
    "        print(key2)\n",
    "        print(\"---------subkey----------\")\n",
    "        print(example[key][key2])\n",
    "        print(\"---------subvalue----------\")"
   ]
  },
  {
   "cell_type": "code",
   "execution_count": 30,
   "metadata": {},
   "outputs": [
    {
     "data": {
      "text/plain": [
       "'00073'"
      ]
     },
     "execution_count": 30,
     "metadata": {},
     "output_type": "execute_result"
    }
   ],
   "source": [
    "format(73, '05d')"
   ]
  },
  {
   "cell_type": "code",
   "execution_count": null,
   "metadata": {},
   "outputs": [],
   "source": []
  }
 ],
 "metadata": {
  "kernelspec": {
   "display_name": "Python 2",
   "language": "python",
   "name": "python2"
  },
  "language_info": {
   "codemirror_mode": {
    "name": "ipython",
    "version": 2
   },
   "file_extension": ".py",
   "mimetype": "text/x-python",
   "name": "python",
   "nbconvert_exporter": "python",
   "pygments_lexer": "ipython2",
   "version": "2.7.6"
  }
 },
 "nbformat": 4,
 "nbformat_minor": 0
}
